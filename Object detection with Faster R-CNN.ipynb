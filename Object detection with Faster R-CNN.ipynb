{
 "cells": [
  {
   "cell_type": "markdown",
   "id": "d49a82dc-7fad-417a-be2c-73733eb30776",
   "metadata": {},
   "source": [
    "# Object detection with Faster R-CNN"
   ]
  },
  {
   "cell_type": "code",
   "execution_count": null,
   "id": "8634d0ec-f0cf-424a-8b92-4ea273d00faa",
   "metadata": {},
   "outputs": [],
   "source": []
  }
 ],
 "metadata": {
  "kernelspec": {
   "display_name": "Python 3 (ipykernel)",
   "language": "python",
   "name": "python3"
  },
  "language_info": {
   "codemirror_mode": {
    "name": "ipython",
    "version": 3
   },
   "file_extension": ".py",
   "mimetype": "text/x-python",
   "name": "python",
   "nbconvert_exporter": "python",
   "pygments_lexer": "ipython3",
   "version": "3.12.7"
  }
 },
 "nbformat": 4,
 "nbformat_minor": 5
}
