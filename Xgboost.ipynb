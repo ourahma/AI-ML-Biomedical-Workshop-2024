{
 "cells": [
  {
   "cell_type": "markdown",
   "id": "c5e757e9-8db3-4a38-bc93-dfc08b6c0eed",
   "metadata": {},
   "source": [
    "# Predicting Parkinson's using EMD features and XGBoost"
   ]
  },
  {
   "cell_type": "markdown",
   "id": "859e9dab-03b6-4367-8139-2d20d54ceb72",
   "metadata": {},
   "source": [
    "## Importing libraries "
   ]
  },
  {
   "cell_type": "code",
   "execution_count": 10,
   "id": "becb73c4-15e9-49ba-bf48-3d42af5c3ac4",
   "metadata": {},
   "outputs": [],
   "source": [
    "from tqdm import tqdm # Imports `tqdm` to create a progress bad in Python\n",
    "\n",
    "import pandas as pd # Imports the pandas library for tabular data\n",
    "import numpy as np # Imports the numpy library for mathematical operations and linear algebra\n",
    "\n",
    "import sklearn.metrics # Import metrics from sklearn\n",
    "from sklearn.model_selection import KFold, RepeatedStratifiedKFold, GridSearchCV # Import functions for cross validation\n",
    "\n",
    "import xgboost as xgb # Import XGBoost for gradient boosting"
   ]
  },
  {
   "cell_type": "code",
   "execution_count": null,
   "id": "c9f72a19-cd04-46db-a80d-a40660d5b675",
   "metadata": {},
   "outputs": [],
   "source": []
  }
 ],
 "metadata": {
  "kernelspec": {
   "display_name": "Python 3 (ipykernel)",
   "language": "python",
   "name": "python3"
  },
  "language_info": {
   "codemirror_mode": {
    "name": "ipython",
    "version": 3
   },
   "file_extension": ".py",
   "mimetype": "text/x-python",
   "name": "python",
   "nbconvert_exporter": "python",
   "pygments_lexer": "ipython3",
   "version": "3.12.7"
  }
 },
 "nbformat": 4,
 "nbformat_minor": 5
}
